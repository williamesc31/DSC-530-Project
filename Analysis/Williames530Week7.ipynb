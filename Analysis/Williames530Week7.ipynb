{
 "cells": [
  {
   "cell_type": "code",
   "execution_count": 11,
   "id": "e9ef0bcb-a70e-4f42-957f-9668a15af683",
   "metadata": {},
   "outputs": [],
   "source": [
    "from os.path import basename, exists\n",
    "\n",
    "\n",
    "def download(url):\n",
    "    filename = basename(url)\n",
    "    if not exists(filename):\n",
    "        from urllib.request import urlretrieve\n",
    "\n",
    "        local, _ = urlretrieve(url, filename)\n",
    "        print(\"Downloaded \" + local)\n",
    "\n",
    "download(\"https://github.com/AllenDowney/ThinkStats2/raw/master/code/thinkstats2.py\")\n",
    "download(\"https://github.com/AllenDowney/ThinkStats2/raw/master/code/thinkplot.py\")"
   ]
  },
  {
   "cell_type": "code",
   "execution_count": 13,
   "id": "cb252b48-f614-4f68-80f6-6f320e6492a3",
   "metadata": {},
   "outputs": [
    {
     "ename": "ModuleNotFoundError",
     "evalue": "No module named 'thinkstats2.thinkstats2'",
     "output_type": "error",
     "traceback": [
      "\u001b[1;31m---------------------------------------------------------------------------\u001b[0m",
      "\u001b[1;31mModuleNotFoundError\u001b[0m                       Traceback (most recent call last)",
      "Cell \u001b[1;32mIn[13], line 4\u001b[0m\n\u001b[0;32m      1\u001b[0m \u001b[38;5;28;01mimport\u001b[39;00m \u001b[38;5;21;01mnumpy\u001b[39;00m \u001b[38;5;28;01mas\u001b[39;00m \u001b[38;5;21;01mnp\u001b[39;00m\n\u001b[1;32m----> 4\u001b[0m \u001b[38;5;28;01mimport\u001b[39;00m \u001b[38;5;21;01mthinkstats2\u001b[39;00m\n\u001b[0;32m      5\u001b[0m \u001b[38;5;28;01mimport\u001b[39;00m \u001b[38;5;21;01mthinkplot\u001b[39;00m\n",
      "File \u001b[1;32m~\\Documents\\ThinkStats2\\thinkstats2\\__init__.py:1\u001b[0m\n\u001b[1;32m----> 1\u001b[0m \u001b[38;5;28;01mfrom\u001b[39;00m \u001b[38;5;21;01m.\u001b[39;00m\u001b[38;5;21;01mthinkstats2\u001b[39;00m \u001b[38;5;28;01mimport\u001b[39;00m \u001b[38;5;241m*\u001b[39m\n",
      "\u001b[1;31mModuleNotFoundError\u001b[0m: No module named 'thinkstats2.thinkstats2'"
     ]
    }
   ],
   "source": [
    "import numpy as np\n",
    "\n",
    "\n",
    "import thinkstats2\n",
    "import thinkplot"
   ]
  },
  {
   "cell_type": "code",
   "execution_count": null,
   "id": "8b57a818-647e-4a66-bc6b-e4044d75cdbc",
   "metadata": {},
   "outputs": [],
   "source": [
    "download(\"https://github.com/AllenDowney/ThinkStats2/raw/master/code/brfss.py\")\n",
    "download(\"https://github.com/AllenDowney/ThinkStats2/raw/master/code/CDBRFS08.ASC.gz\")"
   ]
  },
  {
   "cell_type": "code",
   "execution_count": null,
   "id": "57694ffe-e080-4fa4-8b53-22694ee7ccd1",
   "metadata": {},
   "outputs": [],
   "source": [
    "## Exercise 7-1: \n",
    "# Using data from the NSFG, make a scatter plot of birth weight versus mother's age. Plot percentiles of birth weight versus mother's age. \n",
    "# Compute Pearson's and Spearman's correlations. How would you characterize the relationship between these variables? \n"
   ]
  },
  {
   "cell_type": "code",
   "execution_count": null,
   "id": "b7ea53b2-1b7f-4659-b8b1-f3e757f1fd82",
   "metadata": {},
   "outputs": [],
   "source": [
    "download(\"https://github.com/AllenDowney/ThinkStats2/raw/master/code/nsfg.py\")\n",
    "download(\"https://github.com/AllenDowney/ThinkStats2/raw/master/code/first.py\")\n",
    "download(\"https://github.com/AllenDowney/ThinkStats2/raw/master/code/2002FemPreg.dct\")\n",
    "download(\n",
    "    \"https://github.com/AllenDowney/ThinkStats2/raw/master/code/2002FemPreg.dat.gz\"\n",
    ")"
   ]
  },
  {
   "cell_type": "code",
   "execution_count": null,
   "id": "77c3e314-fca3-4248-aeea-0111975ed5a5",
   "metadata": {},
   "outputs": [],
   "source": [
    "import first\n",
    "\n",
    "live, firsts, others = first.MakeFrames()\n",
    "live = live.dropna(subset=['agepreg', 'totalwgt_lb'])"
   ]
  },
  {
   "cell_type": "code",
   "execution_count": null,
   "id": "e50bf4eb-fab3-44df-ae56-374978c7d959",
   "metadata": {},
   "outputs": [],
   "source": [
    "# Solution\n",
    "\n",
    "ages = live.agepreg\n",
    "weights = live.totalwgt_lb\n",
    "print('Corr', Corr(ages, weights))\n",
    "print('SpearmanCorr', SpearmanCorr(ages, weights))"
   ]
  },
  {
   "cell_type": "code",
   "execution_count": null,
   "id": "01598689-fff3-42a1-b0a2-e08136d1691e",
   "metadata": {},
   "outputs": [],
   "source": [
    "# Solution\n",
    "\n",
    "def BinnedPercentiles(df):\n",
    "    \"\"\"Bin the data by age and plot percentiles of weight for each bin.\n",
    "\n",
    "    df: DataFrame\n",
    "    \"\"\"\n",
    "    bins = np.arange(10, 48, 3)\n",
    "    indices = np.digitize(df.agepreg, bins)\n",
    "    groups = df.groupby(indices)\n",
    "\n",
    "    ages = [group.agepreg.mean() for i, group in groups][1:-1]\n",
    "    cdfs = [thinkstats2.Cdf(group.totalwgt_lb) for i, group in groups][1:-1]\n",
    "\n",
    "    thinkplot.PrePlot(3)\n",
    "    for percent in [75, 50, 25]:\n",
    "        weights = [cdf.Percentile(percent) for cdf in cdfs]\n",
    "        label = '%dth' % percent\n",
    "        thinkplot.Plot(ages, weights, label=label)\n",
    "\n",
    "    thinkplot.Config(xlabel=\"Mother's age (years)\",\n",
    "                     ylabel='Birth weight (lbs)',\n",
    "                     xlim=[14, 45], legend=True)\n",
    "    \n",
    "BinnedPercentiles(live)"
   ]
  },
  {
   "cell_type": "code",
   "execution_count": null,
   "id": "a6f583ec-393a-4a8e-955b-dadb8a2a0d84",
   "metadata": {},
   "outputs": [],
   "source": [
    "# Solution\n",
    "\n",
    "thinkplot.Scatter(ages, weights, alpha=0.05, s=10)\n",
    "thinkplot.Config(xlabel='Age (years)',\n",
    "                     ylabel='Birth weight (lbs)',\n",
    "                     xlim=[10, 45],\n",
    "                     ylim=[0, 15],\n",
    "                     legend=False)"
   ]
  },
  {
   "cell_type": "code",
   "execution_count": null,
   "id": "2d0fb980-ba21-490a-9a04-98bb7769bb02",
   "metadata": {},
   "outputs": [],
   "source": [
    "# Solution\n",
    "\n",
    "# My conclusions:\n",
    "\n",
    "# 1) The scatterplot shows a weak relationship between the variables but\n",
    "#    it is hard to see clearly.\n",
    "\n",
    "# 2) The correlations support this.  Pearson's is around 0.07, Spearman's\n",
    "#    is around 0.09.  The difference between them suggests some influence\n",
    "#    of outliers or a non-linear relationsip.\n",
    "\n",
    "# 3) Plotting percentiles of weight versus age suggests that the\n",
    "#    relationship is non-linear.  Birth weight increases more quickly\n",
    "#    in the range of mother's age from 15 to 25.  After that, the effect\n",
    "#    is weaker."
   ]
  }
 ],
 "metadata": {
  "kernelspec": {
   "display_name": "Python [conda env:base] *",
   "language": "python",
   "name": "conda-base-py"
  },
  "language_info": {
   "codemirror_mode": {
    "name": "ipython",
    "version": 3
   },
   "file_extension": ".py",
   "mimetype": "text/x-python",
   "name": "python",
   "nbconvert_exporter": "python",
   "pygments_lexer": "ipython3",
   "version": "3.12.7"
  }
 },
 "nbformat": 4,
 "nbformat_minor": 5
}
